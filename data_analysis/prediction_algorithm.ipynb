{
 "cells": [
  {
   "cell_type": "code",
   "execution_count": null,
   "metadata": {},
   "outputs": [],
   "source": [
    "import pandas as pd\n",
    "import numpy as np\n",
    "import results\n",
    "import matplotlib.pyplot as plt\n",
    "import seaborn as sns\n",
    "import Machine_learning_fitting\n",
    "\n",
    "# Ce input_df doit contenir la ligne qu'on souhaite prédire (on veut un DATAFRAME)\n",
    "#['timestamp' 'date' 'length' 'low_price' 'high_price' 'opening_price'\n",
    "# 'closing_price' 'volume' 'bdb_low' 'bdb_high' 'mme12' 'mme26' 'stochastic'\n",
    "# 'macd']\n",
    "# et ceci sous\n",
    "\n",
    "\n",
    "def prediction(input_df):\n",
    "    \n",
    "    ### 1st step \n",
    "    ##Vector transformation\n",
    "\n",
    "    #On ajoute les colonnes nécessaires à l'analyse\n",
    "    complete_df = Machine_learning_fitting.add_columns(input_df)\n",
    "\n",
    "    # On sélectionne seulement les valeurs utiles dans notre dataframe\n",
    "    selected_df = Machine_learning_fitting.feature_selection(complete_df)\n",
    "\n",
    "    # On convertit notre dataframe en numpy array\n",
    "    array_selected = np.array(selected_df)\n",
    "\n",
    "    ### 2nd step\n",
    "    ## Standard_Scaler and PCA\n",
    "\n",
    "    # Standard Scaler's parameters loading\n",
    "    mean_loaded = pickle.load(open(\"mean.p\", \"rb\"))\n",
    "    std_loaded = pickle.load(open( \"std.p\", \"rb\"))\n",
    "\n",
    "    # Standard Scaler's reconstruction\n",
    "    scaler = StandardScaler(copy=False)\n",
    "    scaler.mean_ = mean_loaded\n",
    "    scaler.std_ = std_loaded\n",
    "\n",
    "    # fit_transform data\n",
    "    X_scale = scalerbis.fit_transform(array_selected)\n",
    "\n",
    "    # PCA Loading\n",
    "    pca_pck = pickle.load( open( \"pca.p\", \"rb\" ) )\n",
    "\n",
    "    # Transformation test and train data from PCA loaded\n",
    "    X = pca_pck.transform(X_scale)\n",
    "\n",
    "    ### 3rd step\n",
    "    ## Prediction\n",
    "    \n",
    "    clf = pickle.load( open( \"clf.p\", \"rb\" ) )\n",
    "    prediction = clf.predict(X)\n",
    "    \n",
    "    return(prediction)"
   ]
  }
 ],
 "metadata": {
  "kernelspec": {
   "display_name": "Python 3",
   "language": "python",
   "name": "python3"
  },
  "language_info": {
   "codemirror_mode": {
    "name": "ipython",
    "version": 3
   },
   "file_extension": ".py",
   "mimetype": "text/x-python",
   "name": "python",
   "nbconvert_exporter": "python",
   "pygments_lexer": "ipython3",
   "version": "3.6.3"
  }
 },
 "nbformat": 4,
 "nbformat_minor": 2
}
